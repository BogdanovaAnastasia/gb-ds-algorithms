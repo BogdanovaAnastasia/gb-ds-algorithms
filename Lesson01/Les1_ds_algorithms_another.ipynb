{
 "cells": [
  {
   "cell_type": "markdown",
   "metadata": {},
   "source": [
    "## Домашнее задание к уроку \"Урок 1. Алгоритм линейной регрессии. Градиентный спуск\""
   ]
  },
  {
   "cell_type": "code",
   "execution_count": 1,
   "metadata": {},
   "outputs": [],
   "source": [
    "import numpy as np"
   ]
  },
  {
   "cell_type": "code",
   "execution_count": 2,
   "metadata": {
    "colab": {},
    "colab_type": "code",
    "id": "VsNrKi1Q6Wmh"
   },
   "outputs": [],
   "source": [
    "y = [45, 55, 50, 59, 65, 35, 75, 80, 50, 60]"
   ]
  },
  {
   "cell_type": "code",
   "execution_count": 3,
   "metadata": {
    "colab": {},
    "colab_type": "code",
    "id": "i77tZbAd5plB"
   },
   "outputs": [
    {
     "data": {
      "text/plain": [
       "(2, 10)"
      ]
     },
     "execution_count": 3,
     "metadata": {},
     "output_type": "execute_result"
    }
   ],
   "source": [
    "X = np.array([[1, 1, 1, 1, 1, 1, 1, 1, 1, 1],\n",
    "              [1, 1, 2, 1, 3, 0, 5, 10, 1, 2]])\n",
    "X.shape"
   ]
  },
  {
   "cell_type": "code",
   "execution_count": 4,
   "metadata": {
    "colab": {},
    "colab_type": "code",
    "id": "JTSC2cFnCd8T"
   },
   "outputs": [],
   "source": [
    "def calc_mse(y, y_pred):\n",
    "    err = np.mean((y - y_pred)**2)\n",
    "    return err"
   ]
  },
  {
   "cell_type": "markdown",
   "metadata": {
    "colab_type": "text",
    "id": "huXrhXQsZTMt"
   },
   "source": [
    "**1\\. Подберите скорость обучения (alpha) и количество итераций:**"
   ]
  },
  {
   "cell_type": "code",
   "execution_count": 5,
   "metadata": {
    "colab": {
     "base_uri": "https://localhost:8080/",
     "height": 34
    },
    "colab_type": "code",
    "id": "VEXjDozNHdAo",
    "outputId": "7d12bb79-21b7-43fb-fd8e-d116a2af3bb7"
   },
   "outputs": [
    {
     "data": {
      "text/plain": [
       "(array([1. , 0.5]), 0.06)"
      ]
     },
     "execution_count": 5,
     "metadata": {},
     "output_type": "execute_result"
    }
   ],
   "source": [
    "n = X.shape[1]\n",
    "alpha = 6e-2\n",
    "W = np.array([1, 0.5])\n",
    "W, alpha"
   ]
  },
  {
   "cell_type": "code",
   "execution_count": 6,
   "metadata": {
    "colab": {
     "base_uri": "https://localhost:8080/",
     "height": 185
    },
    "colab_type": "code",
    "id": "IDB22MQKMYaJ",
    "outputId": "4c03219e-a57c-4583-f439-6699fd0619bb"
   },
   "outputs": [
    {
     "name": "stdout",
     "output_type": "stream",
     "text": [
      "0 [ 7.612 20.9  ] 3173.15\n",
      "10 [25.72983979  9.05170097] 364.6834436471202\n",
      "20 [35.85695572  6.15284752] 125.86627725452956\n",
      "30 [41.24888118  5.03270471] 67.85926616474049\n",
      "40 [44.0891315   4.49316871] 51.98014546835954\n",
      "50 [45.5816168   4.21574742] 47.603575735386116\n",
      "60 [46.3654434   4.07078732] 46.39687623882493\n",
      "70 [46.77704197  3.99475582] 46.064160921425916\n",
      "80 [46.99317184  3.95484256] 45.972423420722386\n",
      "90 [47.10666058  3.9338856 ] 45.94712921557662\n",
      "100 [47.16625286  3.92288138] 45.94015500316733\n",
      "110 [47.19754441  3.91710315] 45.9382320473576\n",
      "120 [47.21397542  3.91406904] 45.93770184282278\n",
      "130 [47.22260325  3.91247585] 45.93755565285452\n",
      "140 [47.22713366  3.91163927] 45.93751534481224\n",
      "150 [47.22951256  3.91119999] 45.937504230928766\n",
      "160 [47.2307617   3.91096933] 45.93750116656742\n",
      "170 [47.23141762  3.91084821] 45.937500321650326\n",
      "180 [47.23176204  3.91078461] 45.93750008868662\n",
      "190 [47.23194289  3.91075121] 45.937500024453016\n",
      "200 [47.23203786  3.91073367] 45.937500006742276\n",
      "210 [47.23208772  3.91072447] 45.93750000185901\n",
      "220 [47.23211391  3.91071963] 45.93750000051257\n",
      "230 [47.23212766  3.91071709] 45.937500000141334\n",
      "240 [47.23213487  3.91071576] 45.93750000003898\n",
      "250 [47.23213867  3.91071506] 45.93750000001074\n"
     ]
    }
   ],
   "source": [
    "for i in range(251):\n",
    "    y_pred = np.dot(W, X)\n",
    "    err = calc_mse(y, y_pred)\n",
    "    for ii in range(W.shape[0]):\n",
    "        W[ii] -= alpha * (1/n * 2 * np.sum(X[ii] * (y_pred - y)))\n",
    "    if i % 10 == 0:\n",
    "        print(i, W, err)"
   ]
  },
  {
   "cell_type": "markdown",
   "metadata": {
    "colab_type": "text",
    "id": "5Qu1o4JhZYwI"
   },
   "source": [
    "***2\\. В этом коде мы избавляемся от итераций по весам, но тут есть ошибка, исправьте ее:**"
   ]
  },
  {
   "cell_type": "code",
   "execution_count": 7,
   "metadata": {
    "colab": {
     "base_uri": "https://localhost:8080/",
     "height": 185
    },
    "colab_type": "code",
    "id": "WZZzDCQLY4pA",
    "outputId": "28f58ade-72f2-4381-809d-2417752d56e4"
   },
   "outputs": [
    {
     "name": "stdout",
     "output_type": "stream",
     "text": [
      "0 [5.502 5.002] 3173.15\n",
      "100 [11.82211538 11.32211538] 737.0918269230771\n",
      "200 [11.82211538 11.32211538] 737.0918269230771\n",
      "300 [11.82211538 11.32211538] 737.0918269230771\n",
      "400 [11.82211538 11.32211538] 737.0918269230771\n",
      "500 [11.82211538 11.32211538] 737.0918269230771\n",
      "600 [11.82211538 11.32211538] 737.0918269230771\n",
      "700 [11.82211538 11.32211538] 737.0918269230771\n",
      "800 [11.82211538 11.32211538] 737.0918269230771\n",
      "900 [11.82211538 11.32211538] 737.0918269230771\n"
     ]
    }
   ],
   "source": [
    "n = X.shape[1]\n",
    "alpha = 1e-2\n",
    "W = np.array([1, 0.5])\n",
    "for i in range(1000):\n",
    "    y_pred = np.dot(W, X)\n",
    "    err = calc_mse(y, y_pred)\n",
    "    '''for ii in range(W.shape[0]):\n",
    "    W[ii] -= alpha * (1/n * 2 * np.sum(X[ii] * (y_pred - y)))'''\n",
    "    W -= (alpha * (1/n * 2 * np.sum(X * (y_pred - y))))\n",
    "    if i % 100 == 0:\n",
    "        print(i, W, err)"
   ]
  },
  {
   "cell_type": "code",
   "execution_count": 8,
   "metadata": {
    "scrolled": true
   },
   "outputs": [
    {
     "name": "stdout",
     "output_type": "stream",
     "text": [
      "0 [2.102 3.9  ] 3173.15\n",
      "100 [31.88770806  6.74418155] 175.19445858001842\n",
      "200 [41.83683774  4.90699865] 61.9177717428135\n",
      "300 [45.33508261  4.26102097] 47.913169919666785\n",
      "400 [46.56511152  4.03388672] 46.181755648107604\n",
      "500 [46.99760587  3.95402334] 45.96769776787538\n",
      "600 [47.14967657  3.92594232] 45.941233404700036\n",
      "700 [47.20314662  3.91606866] 45.93796156758051\n",
      "800 [47.2219474   3.91259695] 45.93755706443538\n",
      "900 [47.228558    3.91137626] 45.937507054979434\n"
     ]
    }
   ],
   "source": [
    "# нужно убрать сумму (np.sum), так как произведение векторов уже содержит в себе сумму по элементам строк X\n",
    "# и использовать произведение векторов (матриц) для перемножения вектора X и вектора, получившегося \n",
    "# в результате разности предсказываемого и реального векторов y\n",
    "n = X.shape[1]\n",
    "alpha = 1e-2\n",
    "W = np.array([1, 0.5])\n",
    "for i in range(1000):\n",
    "    y_pred = np.dot(W, X)\n",
    "    err = calc_mse(y, y_pred)\n",
    "    '''for ii in range(W.shape[0]):\n",
    "    W[ii] -= alpha * (1/n * 2 * np.sum(X[ii] * (y_pred - y)))'''\n",
    "    W -= (alpha * (1/n * 2 * (X @ (y_pred - y))))\n",
    "    if i % 100 == 0:\n",
    "        print(i, W, err)"
   ]
  },
  {
   "cell_type": "markdown",
   "metadata": {},
   "source": [
    "***3\\. Реализовать один из критериев останова, перечисленный в методичке.**"
   ]
  },
  {
   "cell_type": "code",
   "execution_count": 9,
   "metadata": {},
   "outputs": [],
   "source": [
    "# критерий останова - ошибка перестаёт меняться на заданную величину\n",
    "def gradient_descent(ε=0.001):\n",
    "    n = X.shape[1]\n",
    "    alpha = 1e-2\n",
    "    W = np.array([1, 0.5])\n",
    "    print(f'Number of objects = {n} \\\n",
    "           \\nLearning rate = {alpha} \\\n",
    "           \\nInitial weights = {W} \\\n",
    "           \\nε = {ε}\\n')\n",
    "    i = 0\n",
    "\n",
    "    while(True):\n",
    "        y_pred = np.dot(W, X)\n",
    "        current_err = calc_mse(y, y_pred)\n",
    "        current_W = W\n",
    "        W -= alpha * (1/n * 2 * (X @ (y_pred - y)))\n",
    "        y_pred = np.dot(W, X)\n",
    "        err = calc_mse(y, y_pred)\n",
    "        i += 1\n",
    "        if abs(err - current_err) < ε:\n",
    "            break\n",
    "    print(f'Iteration #{i-1}: W = {current_W}, MSE = {current_err}\\n\\\n",
    "Iteration #{i}: W = {W}, MSE = {err}') if i % 10 != 0 else None"
   ]
  },
  {
   "cell_type": "code",
   "execution_count": 10,
   "metadata": {},
   "outputs": [
    {
     "name": "stdout",
     "output_type": "stream",
     "text": [
      "Number of objects = 10            \n",
      "Learning rate = 0.01            \n",
      "Initial weights = [1.  0.5]            \n",
      "ε = 0.001\n",
      "\n",
      "Iteration #478: W = [46.93696959  3.96522029], MSE = 45.98533064004529\n",
      "Iteration #479: W = [46.93696959  3.96522029], MSE = 45.98434114415108\n"
     ]
    }
   ],
   "source": [
    "gradient_descent()"
   ]
  },
  {
   "cell_type": "code",
   "execution_count": 11,
   "metadata": {},
   "outputs": [
    {
     "name": "stdout",
     "output_type": "stream",
     "text": [
      "Number of objects = 10            \n",
      "Learning rate = 0.01            \n",
      "Initial weights = [1.  0.5]            \n",
      "ε = 0.0001\n",
      "\n",
      "Iteration #588: W = [47.13865641  3.92797727], MSE = 45.94229788067368\n",
      "Iteration #589: W = [47.13865641  3.92797727], MSE = 45.94219862456455\n"
     ]
    }
   ],
   "source": [
    "gradient_descent(0.0001)"
   ]
  },
  {
   "cell_type": "code",
   "execution_count": 12,
   "metadata": {},
   "outputs": [
    {
     "name": "stdout",
     "output_type": "stream",
     "text": [
      "Number of objects = 10            \n",
      "Learning rate = 0.01            \n",
      "Initial weights = [1.  0.5]            \n",
      "ε = 1e-06\n",
      "\n",
      "Iteration #808: W = [47.22276525  3.91244593], MSE = 45.93754827651849\n",
      "Iteration #809: W = [47.22276525  3.91244593], MSE = 45.937547277798465\n"
     ]
    }
   ],
   "source": [
    "gradient_descent(0.000001)"
   ]
  }
 ],
 "metadata": {
  "kernelspec": {
   "display_name": "Python 3",
   "language": "python",
   "name": "python3"
  },
  "language_info": {
   "codemirror_mode": {
    "name": "ipython",
    "version": 3
   },
   "file_extension": ".py",
   "mimetype": "text/x-python",
   "name": "python",
   "nbconvert_exporter": "python",
   "pygments_lexer": "ipython3",
   "version": "3.7.4"
  }
 },
 "nbformat": 4,
 "nbformat_minor": 2
}
