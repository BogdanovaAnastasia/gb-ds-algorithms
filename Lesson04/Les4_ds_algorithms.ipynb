{
 "cells": [
  {
   "cell_type": "markdown",
   "metadata": {},
   "source": [
    "## Домашнее задание к уроку \"Урок 4. Алгоритм построения дерева решений\""
   ]
  },
  {
   "cell_type": "markdown",
   "metadata": {},
   "source": [
    "**1\\. В коде из методички реализуйте один или несколько из критериев останова (количество листьев, количество используемых признаков, глубина дерева и т.д.)**"
   ]
  },
  {
   "cell_type": "code",
   "execution_count": 1,
   "metadata": {},
   "outputs": [],
   "source": [
    "import matplotlib.pyplot as plt\n",
    "%matplotlib inline\n",
    "import random\n",
    "\n",
    "from matplotlib.colors import ListedColormap\n",
    "from sklearn import datasets\n",
    "\n",
    "import numpy as np\n",
    "\n",
    "from sklearn import model_selection\n",
    "from math import log"
   ]
  },
  {
   "cell_type": "code",
   "execution_count": 2,
   "metadata": {},
   "outputs": [],
   "source": [
    "# сгенерируем данные\n",
    "classification_data, classification_labels = datasets.make_classification(n_features = 2, n_informative = 2, \n",
    "                                                      n_classes = 2, n_redundant=0, \n",
    "                                                      n_clusters_per_class=1, random_state=175)"
   ]
  },
  {
   "cell_type": "code",
   "execution_count": 3,
   "metadata": {},
   "outputs": [
    {
     "data": {
      "image/png": "[encoded data removed]",
      "text/plain": [
       "<Figure size 576x576 with 1 Axes>"
      ]
     },
     "metadata": {
      "needs_background": "light"
     },
     "output_type": "display_data"
    }
   ],
   "source": [
    "# визуализируем сгенерированные данные\n",
    "colors = ListedColormap(['red', 'blue'])\n",
    "light_colors = ListedColormap(['lightcoral', 'lightblue'])\n",
    "\n",
    "plt.figure(figsize=(8,8))\n",
    "plt.scatter(list(map(lambda x: x[0], classification_data)), list(map(lambda x: x[1], classification_data)), \n",
    "              c=classification_labels, cmap=colors)\n",
    "plt.show()"
   ]
  },
  {
   "cell_type": "code",
   "execution_count": 4,
   "metadata": {},
   "outputs": [],
   "source": [
    "# Реализуем класс узла\n",
    "class Node:\n",
    "    \n",
    "    def __init__(self, index, t, true_branch, false_branch):\n",
    "        self.index = index  # индекс признака, по которому ведется сравнение с порогом в этом узле\n",
    "        self.t = t  # значение порога\n",
    "        self.true_branch = true_branch  # поддерево, удовлетворяющее условию в узле\n",
    "        self.false_branch = false_branch  # поддерево, не удовлетворяющее условию в узле"
   ]
  },
  {
   "cell_type": "code",
   "execution_count": 5,
   "metadata": {},
   "outputs": [],
   "source": [
    "# Реализуем класс терминального узла (листа)\n",
    "class Leaf:\n",
    "    \n",
    "    def __init__(self, data, labels):\n",
    "        self.data = data\n",
    "        self.labels = labels  # y_true\n",
    "        self.prediction = self.predict()  # y_pred\n",
    "        \n",
    "    def predict(self):\n",
    "        # подсчет количества объектов разных классов\n",
    "        classes = {}  # сформируем словарь \"класс: количество объектов\"\n",
    "        for label in self.labels:\n",
    "            if label not in classes:\n",
    "                classes[label] = 0\n",
    "            classes[label] += 1\n",
    "        #  найдем класс, количество объектов которого будет максимальным в этом листе и вернем его    \n",
    "        prediction = max(classes, key=classes.get)\n",
    "        return prediction"
   ]
  },
  {
   "cell_type": "code",
   "execution_count": 6,
   "metadata": {},
   "outputs": [],
   "source": [
    "# Расчет критерия Джини\n",
    "def gini(labels):\n",
    "    #  подсчет количества объектов разных классов\n",
    "    classes = {}\n",
    "    for label in labels:\n",
    "        if label not in classes:\n",
    "            classes[label] = 0\n",
    "        classes[label] += 1\n",
    "    \n",
    "    #  расчет критерия\n",
    "    impurity = 1     # \"impurity\" - \"нечистота\", степень неопределенности\n",
    "    for label in classes:\n",
    "        p = classes[label] / len(labels)\n",
    "        impurity -= p ** 2\n",
    "        \n",
    "    return impurity"
   ]
  },
  {
   "cell_type": "code",
   "execution_count": 7,
   "metadata": {},
   "outputs": [],
   "source": [
    "# Расчет качества\n",
    "def quality(left_labels, right_labels, current_gini):\n",
    "\n",
    "    # доля выборки, ушедшей в левое поддерево\n",
    "    p = float(left_labels.shape[0]) / (left_labels.shape[0] + right_labels.shape[0]) # для правого (1-p)\n",
    "    \n",
    "    return current_gini - p * gini(left_labels) - (1 - p) * gini(right_labels)"
   ]
  },
  {
   "cell_type": "code",
   "execution_count": 8,
   "metadata": {},
   "outputs": [],
   "source": [
    "# Разбиение датасета в узле\n",
    "def split(data, labels, index, t):\n",
    "    \n",
    "    left = np.where(data[:, index] <= t)\n",
    "    right = np.where(data[:, index] > t)\n",
    "        \n",
    "    true_data = data[left]\n",
    "    false_data = data[right]\n",
    "    true_labels = labels[left]\n",
    "    false_labels = labels[right]\n",
    "        \n",
    "    return true_data, false_data, true_labels, false_labels"
   ]
  },
  {
   "cell_type": "code",
   "execution_count": 9,
   "metadata": {},
   "outputs": [],
   "source": [
    "# Нахождение наилучшего разбиения с минимальным количеством элементов в листе\n",
    "def find_best_split(data, labels, min_leaf = 0):\n",
    "\n",
    "#     print(min_leaf)\n",
    "    current_gini = gini(labels)\n",
    "\n",
    "    best_quality = 0\n",
    "    best_t = None\n",
    "    best_index = None\n",
    "    \n",
    "    n_features = data.shape[1]\n",
    "    \n",
    "    for index in range(n_features):\n",
    "        t_values = [row[index] for row in data]\n",
    "        \n",
    "        for t in t_values:\n",
    "            true_data, false_data, true_labels, false_labels = split(data, labels, index, t)\n",
    "            #  пропускаем разбиения, в которых в узле остается менее заявленного числа элементов\n",
    "            if len(true_data) < min_leaf or len(false_data) < min_leaf:\n",
    "#                 print(len(true_data), len(false_data))\n",
    "                continue\n",
    "            \n",
    "            current_quality = quality(true_labels, false_labels, current_gini)\n",
    "            \n",
    "            #  выбираем порог, на котором получается максимальный прирост качества\n",
    "            if current_quality > best_quality:\n",
    "                best_quality, best_t, best_index = current_quality, t, index\n",
    "\n",
    "    return best_quality, best_t, best_index"
   ]
  },
  {
   "cell_type": "code",
   "execution_count": 10,
   "metadata": {},
   "outputs": [],
   "source": [
    "# Построение дерева с помощью рекурсивной функции с максимальным количеством листов и минимальным количеством элементов в листе\n",
    "def build_tree(data, labels, count_leaves = 0, max_count_leaves = 0, min_leaf = 0):\n",
    "\n",
    "    # если есть ограничение по количеству листов\n",
    "    if max_count_leaves != 0:\n",
    "        if count_leaves < max_count_leaves:\n",
    "            quality, t, index = find_best_split(data, labels, min_leaf)\n",
    "            print(\"count_leaves\", count_leaves)\n",
    "            count_leaves += 1\n",
    "\n",
    "            if quality == 0:\n",
    "                return Leaf(data, labels)\n",
    "        else:\n",
    "            return Leaf(data, labels)\n",
    "    else:\n",
    "        quality, t, index = find_best_split(data, labels, min_leaf)\n",
    "        print(\"count_leaves\", count_leaves)\n",
    "        count_leaves += 1\n",
    "        if quality == 0:\n",
    "            return Leaf(data, labels)\n",
    "\n",
    "    true_data, false_data, true_labels, false_labels = split(data, labels, index, t)\n",
    "\n",
    "    # Рекурсивно строим два поддерева\n",
    "    true_branch = build_tree(true_data, true_labels, count_leaves, max_count_leaves)\n",
    "    false_branch = build_tree(false_data, false_labels, count_leaves, max_count_leaves)\n",
    "\n",
    "    # Возвращаем класс узла со всеми поддеревьями, то есть целого дерева\n",
    "    return Node(index, t, true_branch, false_branch)"
   ]
  },
  {
   "cell_type": "code",
   "execution_count": 11,
   "metadata": {},
   "outputs": [],
   "source": [
    "# Проход объекта по дереву для его классификации\n",
    "def classify_object(obj, node):\n",
    "\n",
    "    #  Останавливаем рекурсию, если достигли листа\n",
    "    if isinstance(node, Leaf):\n",
    "        answer = node.prediction\n",
    "        return answer\n",
    "\n",
    "    if obj[node.index] <= node.t:\n",
    "        return classify_object(obj, node.true_branch)\n",
    "    else:\n",
    "        return classify_object(obj, node.false_branch)"
   ]
  },
  {
   "cell_type": "code",
   "execution_count": 12,
   "metadata": {},
   "outputs": [],
   "source": [
    "# Предсказание деревом для всего датасета\n",
    "def predict(data, tree):\n",
    "    \n",
    "    classes = []\n",
    "    for obj in data:\n",
    "        prediction = classify_object(obj, tree)\n",
    "        classes.append(prediction)\n",
    "    return classes"
   ]
  },
  {
   "cell_type": "code",
   "execution_count": 13,
   "metadata": {},
   "outputs": [],
   "source": [
    "# Функция подсчета точности как доли правильных ответов\n",
    "def accuracy_metric(actual, predicted):\n",
    "    correct = 0\n",
    "    for i in range(len(actual)):\n",
    "        if actual[i] == predicted[i]:\n",
    "            correct += 1\n",
    "    return correct / float(len(actual)) * 100.0"
   ]
  },
  {
   "cell_type": "code",
   "execution_count": 14,
   "metadata": {},
   "outputs": [],
   "source": [
    "# Разобьем выборку на обучающую и тестовую\n",
    "train_data, test_data, train_labels, test_labels = model_selection.train_test_split(classification_data, \n",
    "                                                                                     classification_labels, \n",
    "                                                                                     test_size = 0.3,\n",
    "                                                                                     random_state = 1)"
   ]
  },
  {
   "cell_type": "code",
   "execution_count": 15,
   "metadata": {},
   "outputs": [
    {
     "name": "stdout",
     "output_type": "stream",
     "text": [
      "count_leaves 0\n",
      "count_leaves 1\n",
      "count_leaves 1\n",
      "count_leaves 2\n",
      "count_leaves 2\n",
      "count_leaves 3\n",
      "count_leaves 3\n"
     ]
    }
   ],
   "source": [
    "# Построим дерево по обучающей выборке с ограниченем минимального количества элементов в листе\n",
    "my_tree = build_tree(train_data, train_labels, min_leaf = 15)"
   ]
  },
  {
   "cell_type": "code",
   "execution_count": 16,
   "metadata": {},
   "outputs": [
    {
     "name": "stdout",
     "output_type": "stream",
     "text": [
      "Индекс 0\n",
      "Порог 0.11317272734241479\n",
      "--> True:\n",
      "  Прогноз: 1\n",
      "--> False:\n",
      "  Индекс 1\n",
      "  Порог -0.26692958777901943\n",
      "  --> True:\n",
      "    Прогноз: 0\n",
      "  --> False:\n",
      "    Индекс 0\n",
      "    Порог 0.8582481994984963\n",
      "    --> True:\n",
      "      Прогноз: 0\n",
      "    --> False:\n",
      "      Прогноз: 1\n"
     ]
    }
   ],
   "source": [
    "# Напечатаем ход нашего дерева с ограниченем минимального количества элементов в листе\n",
    "def print_tree(node, spacing=\"\"):\n",
    "\n",
    "    # Если лист, то выводим его прогноз\n",
    "    if isinstance(node, Leaf):\n",
    "        print(spacing + \"Прогноз:\", node.prediction)\n",
    "        return\n",
    "\n",
    "    # Выведем значение индекса и порога на этом узле\n",
    "    print(spacing + 'Индекс', str(node.index))\n",
    "    print(spacing + 'Порог', str(node.t))\n",
    "\n",
    "    # Рекурсионный вызов функции на положительном поддереве\n",
    "    print (spacing + '--> True:')\n",
    "    print_tree(node.true_branch, spacing + \"  \")\n",
    "\n",
    "    # Рекурсионный вызов функции на отрицательном поддереве\n",
    "    print (spacing + '--> False:')\n",
    "    print_tree(node.false_branch, spacing + \"  \")\n",
    "    \n",
    "print_tree(my_tree)"
   ]
  },
  {
   "cell_type": "code",
   "execution_count": 17,
   "metadata": {},
   "outputs": [],
   "source": [
    "# Получим ответы для обучающей выборки с ограниченем минимального количества элементов в листе\n",
    "train_answers = predict(train_data, my_tree)"
   ]
  },
  {
   "cell_type": "code",
   "execution_count": 18,
   "metadata": {},
   "outputs": [],
   "source": [
    "# И получим ответы для тестовой выборки с ограниченем минимального количества элементов в листе\n",
    "answers = predict(test_data, my_tree)"
   ]
  },
  {
   "cell_type": "code",
   "execution_count": 19,
   "metadata": {},
   "outputs": [
    {
     "data": {
      "text/plain": [
       "100.0"
      ]
     },
     "execution_count": 19,
     "metadata": {},
     "output_type": "execute_result"
    }
   ],
   "source": [
    "# Точность на обучающей выборке с ограниченем минимального количества элементов в листе\n",
    "train_accuracy = accuracy_metric(train_labels, train_answers)\n",
    "train_accuracy"
   ]
  },
  {
   "cell_type": "code",
   "execution_count": 20,
   "metadata": {},
   "outputs": [
    {
     "data": {
      "text/plain": [
       "93.33333333333333"
      ]
     },
     "execution_count": 20,
     "metadata": {},
     "output_type": "execute_result"
    }
   ],
   "source": [
    "# Точность на тестовой выборке с ограниченем минимального количества элементов в листе\n",
    "test_accuracy = accuracy_metric(test_labels, answers)\n",
    "test_accuracy"
   ]
  },
  {
   "cell_type": "code",
   "execution_count": 21,
   "metadata": {
    "scrolled": false
   },
   "outputs": [
    {
     "data": {
      "image/png": "[encoded data removed]",
      "text/plain": [
       "<Figure size 1152x504 with 2 Axes>"
      ]
     },
     "metadata": {
      "needs_background": "light"
     },
     "output_type": "display_data"
    }
   ],
   "source": [
    "# Визуализируем дерево на графике с ограниченем минимального количества элементов в листе\n",
    "def get_meshgrid(data, step=.05, border=1.2):\n",
    "    x_min, x_max = data[:, 0].min() - border, data[:, 0].max() + border\n",
    "    y_min, y_max = data[:, 1].min() - border, data[:, 1].max() + border\n",
    "    return np.meshgrid(np.arange(x_min, x_max, step), np.arange(y_min, y_max, step))\n",
    "\n",
    "plt.figure(figsize = (16, 7))\n",
    "\n",
    "# график обучающей выборки\n",
    "plt.subplot(1,2,1)\n",
    "xx, yy = get_meshgrid(train_data)\n",
    "mesh_predictions = np.array(predict(np.c_[xx.ravel(), yy.ravel()], my_tree)).reshape(xx.shape)\n",
    "plt.pcolormesh(xx, yy, mesh_predictions, cmap = light_colors)\n",
    "plt.scatter(train_data[:, 0], train_data[:, 1], c = train_labels, cmap = colors)\n",
    "plt.title(f'Train accuracy={train_accuracy:.2f}')\n",
    "\n",
    "# график тестовой выборки\n",
    "plt.subplot(1,2,2)\n",
    "plt.pcolormesh(xx, yy, mesh_predictions, cmap = light_colors)\n",
    "plt.scatter(test_data[:, 0], test_data[:, 1], c = test_labels, cmap = colors)\n",
    "plt.title(f'Test accuracy={test_accuracy:.2f}')\n",
    "plt.show()"
   ]
  },
  {
   "cell_type": "code",
   "execution_count": 22,
   "metadata": {},
   "outputs": [
    {
     "name": "stdout",
     "output_type": "stream",
     "text": [
      "count_leaves 0\n",
      "count_leaves 1\n",
      "count_leaves 1\n"
     ]
    }
   ],
   "source": [
    "# Построим дерево по обучающей выборке с ограниченем максимального количества листов\n",
    "my_tree = build_tree(train_data, train_labels, max_count_leaves=2)"
   ]
  },
  {
   "cell_type": "code",
   "execution_count": 23,
   "metadata": {},
   "outputs": [
    {
     "name": "stdout",
     "output_type": "stream",
     "text": [
      "Индекс 0\n",
      "Порог 0.11317272734241479\n",
      "--> True:\n",
      "  Прогноз: 1\n",
      "--> False:\n",
      "  Индекс 1\n",
      "  Порог -0.26692958777901943\n",
      "  --> True:\n",
      "    Прогноз: 0\n",
      "  --> False:\n",
      "    Прогноз: 0\n"
     ]
    }
   ],
   "source": [
    "# Напечатаем ход нашего дерева с ограниченем максимального количества листов\n",
    "def print_tree(node, spacing=\"\"):\n",
    "\n",
    "    # Если лист, то выводим его прогноз\n",
    "    if isinstance(node, Leaf):\n",
    "        print(spacing + \"Прогноз:\", node.prediction)\n",
    "        return\n",
    "\n",
    "    # Выведем значение индекса и порога на этом узле\n",
    "    print(spacing + 'Индекс', str(node.index))\n",
    "    print(spacing + 'Порог', str(node.t))\n",
    "\n",
    "    # Рекурсионный вызов функции на положительном поддереве\n",
    "    print (spacing + '--> True:')\n",
    "    print_tree(node.true_branch, spacing + \"  \")\n",
    "\n",
    "    # Рекурсионный вызов функции на отрицательном поддереве\n",
    "    print (spacing + '--> False:')\n",
    "    print_tree(node.false_branch, spacing + \"  \")\n",
    "    \n",
    "print_tree(my_tree)"
   ]
  },
  {
   "cell_type": "code",
   "execution_count": 24,
   "metadata": {},
   "outputs": [],
   "source": [
    "# Получим ответы для обучающей выборки с ограниченем максимального количества листов\n",
    "train_answers = predict(train_data, my_tree)"
   ]
  },
  {
   "cell_type": "code",
   "execution_count": 25,
   "metadata": {},
   "outputs": [],
   "source": [
    "# И получим ответы для тестовой выборки с ограниченем максимального количества листов\n",
    "answers = predict(test_data, my_tree)"
   ]
  },
  {
   "cell_type": "code",
   "execution_count": 26,
   "metadata": {},
   "outputs": [
    {
     "data": {
      "text/plain": [
       "97.14285714285714"
      ]
     },
     "execution_count": 26,
     "metadata": {},
     "output_type": "execute_result"
    }
   ],
   "source": [
    "# Точность на обучающей выборке с ограниченем максимального количества листов\n",
    "train_accuracy = accuracy_metric(train_labels, train_answers)\n",
    "train_accuracy"
   ]
  },
  {
   "cell_type": "code",
   "execution_count": 27,
   "metadata": {},
   "outputs": [
    {
     "data": {
      "text/plain": [
       "90.0"
      ]
     },
     "execution_count": 27,
     "metadata": {},
     "output_type": "execute_result"
    }
   ],
   "source": [
    "# Точность на тестовой выборке с ограниченем максимального количества листов\n",
    "test_accuracy = accuracy_metric(test_labels, answers)\n",
    "test_accuracy"
   ]
  },
  {
   "cell_type": "code",
   "execution_count": 28,
   "metadata": {
    "scrolled": true
   },
   "outputs": [
    {
     "data": {
      "image/png": "[encoded data removed]",
      "text/plain": [
       "<Figure size 1152x504 with 2 Axes>"
      ]
     },
     "metadata": {
      "needs_background": "light"
     },
     "output_type": "display_data"
    }
   ],
   "source": [
    "# Визуализируем дерево на графике с ограниченем максимального количества листов\n",
    "def get_meshgrid(data, step=.05, border=1.2):\n",
    "    x_min, x_max = data[:, 0].min() - border, data[:, 0].max() + border\n",
    "    y_min, y_max = data[:, 1].min() - border, data[:, 1].max() + border\n",
    "    return np.meshgrid(np.arange(x_min, x_max, step), np.arange(y_min, y_max, step))\n",
    "\n",
    "plt.figure(figsize = (16, 7))\n",
    "\n",
    "# график обучающей выборки\n",
    "plt.subplot(1,2,1)\n",
    "xx, yy = get_meshgrid(train_data)\n",
    "mesh_predictions = np.array(predict(np.c_[xx.ravel(), yy.ravel()], my_tree)).reshape(xx.shape)\n",
    "plt.pcolormesh(xx, yy, mesh_predictions, cmap = light_colors)\n",
    "plt.scatter(train_data[:, 0], train_data[:, 1], c = train_labels, cmap = colors)\n",
    "plt.title(f'Train accuracy={train_accuracy:.2f}')\n",
    "\n",
    "# график тестовой выборки\n",
    "plt.subplot(1,2,2)\n",
    "plt.pcolormesh(xx, yy, mesh_predictions, cmap = light_colors)\n",
    "plt.scatter(test_data[:, 0], test_data[:, 1], c = test_labels, cmap = colors)\n",
    "plt.title(f'Test accuracy={test_accuracy:.2f}')\n",
    "plt.show()"
   ]
  },
  {
   "cell_type": "markdown",
   "metadata": {},
   "source": [
    "**2*\\.  Реализуйте дерево для задачи регрессии. Возьмите за основу дерево, реализованное в методичке, заменив механизм предсказания в листе на взятие среднего значения по выборке, и критерий Джини на дисперсию значений.\n",
    "В материалах также есть пример скрипта для расчета дерева - Lesson_4_script, им можно воспользоваться аналогично тому, как это было на предыдущих уроках.**"
   ]
  },
  {
   "cell_type": "code",
   "execution_count": 29,
   "metadata": {},
   "outputs": [],
   "source": [
    "X = np.array([[1, 1, 1, 1, 1, 1, 1, 1, 1, 1],\n",
    "              [1, 1, 2, 5, 3, 0, 5, 10, 1, 2],\n",
    "              [500, 700, 750, 600, 1450, 800, 1500, 2000, 450, 1000],\n",
    "              [1, 1, 2, 1, 2, 1, 3, 3, 1, 2]], dtype = np.float64)\n",
    "y = np.array([0, 0, 1, 0, 1, 0, 1, 0, 1, 1], dtype = np.float64)\n"
   ]
  },
  {
   "cell_type": "code",
   "execution_count": 30,
   "metadata": {},
   "outputs": [
    {
     "name": "stdout",
     "output_type": "stream",
     "text": [
      "[ 500.  700.  750.  600. 1450.  800. 1500. 2000.  450. 1000.]\n",
      "[0. 0. 1. 0. 1. 0. 1. 0. 1. 1.]\n",
      "[False False False False  True False  True  True False  True]\n",
      "[1. 1. 0. 1.]\n",
      "Нулей: 1 единиц: 3\n"
     ]
    }
   ],
   "source": [
    "x = X[2,:]\n",
    "print(x)\n",
    "print(y)\n",
    "print(x >= 1000)\n",
    "print(y[x >= 1000])\n",
    "right_1 = (y[x >= 1000] == 0)\n",
    "right_2 = (y[x >= 1000] == 1)\n",
    "print('Нулей:', right_1.sum(), 'единиц:', right_2.sum())"
   ]
  },
  {
   "cell_type": "code",
   "execution_count": 31,
   "metadata": {},
   "outputs": [],
   "source": [
    "def calc_inform(x, y, t):\n",
    "    qty_all = len(y)\n",
    "    y_left = y[x < t]\n",
    "    y_right = y[x >= t]\n",
    "    qty_left = len(y[x < t])\n",
    "    qty_right = qty_all - qty_left\n",
    "\n",
    "    # Критерий информативности не будет равен бесконечности в таком случае,\n",
    "    # но и считать его особо смысла нет, т.к. получается только одна ветвь\n",
    "    if len(y_left) == 0 or len(y_right) == 0:\n",
    "        return np.inf\n",
    "    \n",
    "    mean_left = np.mean(y[x < t])\n",
    "    mean_right = np.mean(y[x >= t])\n",
    "\n",
    "    p_left = ((y_left - mean_left)**2).sum() / qty_left\n",
    "\n",
    "    p_right = ((y_right - mean_right)**2).sum() / qty_right\n",
    "\n",
    "    # Нормировочный коэффициент для левого листа\n",
    "    left_coef = qty_left / qty_all\n",
    "\n",
    "    \n",
    "    # Энтропийный критерий Шеннона для левого листа\n",
    "    h_left = - p_left * log(p_left, 2) if p_left != 0 else 0\n",
    "    \n",
    "    # Энтропийный критерий Шеннона для правого листа\n",
    "    h_right = - p_right * log(p_right, 2) if p_right != 0 else 0\n",
    "\n",
    "    res = left_coef * h_left + (1 - left_coef) * h_right\n",
    "    return res"
   ]
  },
  {
   "cell_type": "code",
   "execution_count": 32,
   "metadata": {},
   "outputs": [],
   "source": [
    "# Расчет критерия информативности\n",
    "def inform(labels):\n",
    "    \n",
    "    # расчёт среднего\n",
    "    labels_mean = np.mean(labels) if len(labels) != 0 else 0\n",
    "    \n",
    "    # расчёт дисперсии значений\n",
    "    p = np.sum((labels - labels_mean)**2)/len(labels) if labels_mean != 0 else 0\n",
    "    \n",
    "    # расчет критерия\n",
    "    impurity = - p * log(p, 2) if p != 0 else 0\n",
    "    \n",
    "    return impurity"
   ]
  },
  {
   "cell_type": "code",
   "execution_count": 33,
   "metadata": {},
   "outputs": [
    {
     "name": "stdout",
     "output_type": "stream",
     "text": [
      "[1. 1. 0. 1.]\n",
      "0.45281953111478324\n",
      "[0. 0. 1. 0. 0. 1.]\n",
      "0.4822055558760694\n"
     ]
    }
   ],
   "source": [
    "print(y[x >= 1000])\n",
    "i = inform(y[x >= 1000])\n",
    "print(i)\n",
    "\n",
    "print(y[x < 1000])\n",
    "i = inform(y[x < 1000])\n",
    "print(i)"
   ]
  },
  {
   "cell_type": "code",
   "execution_count": 34,
   "metadata": {},
   "outputs": [],
   "source": [
    "# Расчет прироста качества (при разбиении вершины дерева)\n",
    "def quality_0(left_labels, right_labels):\n",
    "\n",
    "    # доля выбоки, ушедшая в левое поддерево\n",
    "    p = float(left_labels.shape[0]) / (left_labels.shape[0] + right_labels.shape[0])\n",
    "    inform_left = inform(left_labels)\n",
    "    inform_right = inform(right_labels)\n",
    "    \n",
    "    return p * inform_left + (1 - p) * inform_right"
   ]
  },
  {
   "cell_type": "code",
   "execution_count": 35,
   "metadata": {},
   "outputs": [
    {
     "name": "stdout",
     "output_type": "stream",
     "text": [
      "Порог: 500.0, informativity = 0.4484270906660583 (0.4484270906660583)\n",
      "Порог: 700.0, informativity = 0.4926183542018011 (0.4926183542018011)\n",
      "Порог: 750.0, informativity = 0.4704511459715549 (0.4704511459715549)\n",
      "Порог: 600.0, informativity = 0.5 (0.5)\n",
      "Порог: 1450.0, informativity = 0.4926183542018011 (0.4926183542018011)\n",
      "Порог: 800.0, informativity = 0.4941344853728565 (0.4941344853728565)\n",
      "Порог: 1500.0, informativity = 0.5 (0.5)\n",
      "Порог: 2000.0, informativity = 0.4484270906660583 (0.4484270906660583)\n",
      "Порог: 450.0, informativity = inf (0.5)\n",
      "Порог: 1000.0, informativity = 0.4704511459715549 (0.4704511459715549)\n"
     ]
    }
   ],
   "source": [
    "for t in x:\n",
    "    print('Порог: {}, informativity = {} ({})'.format(t, calc_inform(x, y, t), quality_0(y[x < t], y[x >= t])))"
   ]
  }
 ],
 "metadata": {
  "kernelspec": {
   "display_name": "Python 3",
   "language": "python",
   "name": "python3"
  },
  "language_info": {
   "codemirror_mode": {
    "name": "ipython",
    "version": 3
   },
   "file_extension": ".py",
   "mimetype": "text/x-python",
   "name": "python",
   "nbconvert_exporter": "python",
   "pygments_lexer": "ipython3",
   "version": "3.7.6"
  }
 },
 "nbformat": 4,
 "nbformat_minor": 4
}
